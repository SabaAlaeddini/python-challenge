{
 "cells": [
  {
   "cell_type": "code",
   "execution_count": 1,
   "metadata": {},
   "outputs": [],
   "source": [
    "# Required Libraries\n",
    "import csv\n",
    "import os"
   ]
  },
  {
   "cell_type": "code",
   "execution_count": 2,
   "metadata": {},
   "outputs": [],
   "source": [
    "# Paths for input and output files\n",
    "input_file_path = os.path.join(\".\", \"Resources\", \"budget_data.csv\")  # Input CSV file path\n",
    "output_file_path = os.path.join(\"..\", \"analysis\", \"budget_analysis.txt\")  # Output text file path"
   ]
  },
  {
   "cell_type": "code",
   "execution_count": 3,
   "metadata": {},
   "outputs": [],
   "source": [
    "# Initialize variables to accumulate financial data\n",
    "total_months = 0\n",
    "total_income = 0\n",
    "\n",
    "# Initialize additional variables for tracking financial analysis\n",
    "monthly_changes = []\n",
    "greatest_increase = [\"\", 0]  # [date, amount]\n",
    "greatest_decrease = [\"\", 0]  # [date, amount]"
   ]
  },
  {
   "cell_type": "code",
   "execution_count": null,
   "metadata": {},
   "outputs": [],
   "source": [
    "# Read and process the CSV financial data\n",
    "with open(input_file_path) as financial_file:\n",
    "    csv_reader = csv.reader(financial_file)\n",
    "    # Skip the header row\n",
    "    next(csv_reader)"
   ]
  },
  {
   "cell_type": "code",
   "execution_count": null,
   "metadata": {},
   "outputs": [],
   "source": [
    "# Capture the first row of data\n",
    "first_row = next(csv_reader)\n",
    "total_months += 1\n",
    "total_income += int(first_row[1])\n",
    "previous_month_income = int(first_row[1])"
   ]
  },
  {
   "cell_type": "code",
   "execution_count": null,
   "metadata": {},
   "outputs": [],
   "source": [
    "# Analyze the data row by row\n",
    "for row in csv_reader:\n",
    "        total_months += 1\n",
    "        total_income += int(row[1])\n",
    "        \n",
    "        # Calculate monthly change\n",
    "        monthly_change = int(row[1]) - previous_month_income\n",
    "        previous_month_income = int(row[1])\n",
    "        monthly_changes.append(monthly_change)"
   ]
  },
  {
   "cell_type": "code",
   "execution_count": null,
   "metadata": {},
   "outputs": [],
   "source": [
    "# Identify the highest profit increase\n",
    "if monthly_change > greatest_increase[1]:\n",
    "            greatest_increase[0] = str(row[0])\n",
    "            greatest_increase[1] = monthly_change\n",
    "        \n",
    "        # Identify the highest loss decrease\n",
    "if monthly_change < greatest_decrease[1]:\n",
    "            greatest_decrease[0] = row[0]\n",
    "            greatest_decrease[1] = monthly_change"
   ]
  },
  {
   "cell_type": "code",
   "execution_count": null,
   "metadata": {},
   "outputs": [],
   "source": [
    "# Calculate average monthly change\n",
    "average_monthly_change = sum(monthly_changes) / len(monthly_change)"
   ]
  },
  {
   "cell_type": "code",
   "execution_count": null,
   "metadata": {},
   "outputs": [],
   "source": [
    "# Prepare output summary\n",
    "rounded_avg_change = round(average_monthly_change, 2)\n",
    "increase_month = greatest_increase[0].split(\"-\")\n",
    "decrease_month = greatest_decrease[0].split(\"-\")"
   ]
  },
  {
   "cell_type": "code",
   "execution_count": null,
   "metadata": {},
   "outputs": [],
   "source": [
    "report = (\n",
    "    f\"\\nFinancial Summary\\n\"\n",
    "    f\"--------------------------\\n\"\n",
    "    f\"Total Months: {total_months}\\n\"\n",
    "    f\"Total Income: ${total_income}\\n\"\n",
    "    f\"Average Monthly Change: ${rounded_avg_change}\\n\"\n",
    "    f\"Greatest Increase in Profits: {increase_month[1]}-{increase_month[0]} (${greatest_increase[1]})\\n\"\n",
    "    f\"Greatest Decrease in Profits: {decrease_month[1]}-{decrease_month[0]} (${greatest_decrease[1]})\\n\"\n",
    ")"
   ]
  },
  {
   "cell_type": "code",
   "execution_count": null,
   "metadata": {},
   "outputs": [],
   "source": [
    "\n",
    "# Display the report\n",
    "print(report)\n",
    "\n",
    "# Save the report to a text file\n",
    "with open(output_file_path, \"w\") as output_file:\n",
    "    output_file.write(report)"
   ]
  }
 ],
 "metadata": {
  "kernelspec": {
   "display_name": "Python_Challenhe",
   "language": "python",
   "name": "python3"
  },
  "language_info": {
   "codemirror_mode": {
    "name": "ipython",
    "version": 3
   },
   "file_extension": ".py",
   "mimetype": "text/x-python",
   "name": "python",
   "nbconvert_exporter": "python",
   "pygments_lexer": "ipython3",
   "version": "3.11.9"
  }
 },
 "nbformat": 4,
 "nbformat_minor": 2
}
