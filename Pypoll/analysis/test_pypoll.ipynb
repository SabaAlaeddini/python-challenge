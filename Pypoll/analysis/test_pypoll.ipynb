{
 "cells": [
  {
   "cell_type": "code",
   "execution_count": 1,
   "metadata": {},
   "outputs": [],
   "source": [
    "# Required Libraries\n",
    "import csv\n",
    "import os"
   ]
  },
  {
   "cell_type": "code",
   "execution_count": 2,
   "metadata": {},
   "outputs": [],
   "source": [
    "# Paths for input and output files\n",
    "input_path = os.path.join(\"..\", \"Resources\", \"election_data.csv\")  # Path for the input CSV file\n",
    "output_path = os.path.join(\"..\", \"analysis\", \"election_analysis.txt\")  # Path for the output text file"
   ]
  },
  {
   "cell_type": "code",
   "execution_count": 3,
   "metadata": {},
   "outputs": [],
   "source": [
    "# Initialize variables for tracking election results\n",
    "vote_total = 0  # Total number of votes cast\n",
    "# Lists and dictionaries to keep track of candidates and their votes\n",
    "candidate_names = []\n",
    "votes_per_candidate = {}\n",
    "# Track the candidate with the highest votes\n",
    "top_candidate = \"\"\n",
    "highest_vote_count = 0"
   ]
  },
  {
   "cell_type": "code",
   "execution_count": null,
   "metadata": {},
   "outputs": [],
   "source": [
    "# Read the CSV file and analyze the data\n",
    "with open(input_path) as election_file:\n",
    "    csv_reader = csv.reader(election_file)\n",
    "    # Skip the initial header row\n",
    "    next(csv_reader)\n",
    "    # Process each row of election data\n",
    "    for record in csv_reader:\n",
    "        print(\". \", end=\"\")  # Loading indicator for large datasets\n",
    "        vote_total += 1  # Increment the overall vote total\n",
    "        name = record[2]  # Candidate's name from the row"
   ]
  },
  {
   "cell_type": "code",
   "execution_count": 5,
   "metadata": {},
   "outputs": [],
   "source": [
    " # If the candidate is new, add them to the list and dictionary\n",
    "if name not in candidate_names:\n",
    "            candidate_names.append(name)\n",
    "            votes_per_candidate[name] = 0\n",
    "        \n",
    "        # Increment the candidate's vote count\n",
    "votes_per_candidate[name] += 1"
   ]
  },
  {
   "cell_type": "code",
   "execution_count": null,
   "metadata": {},
   "outputs": [],
   "source": [
    "\n",
    "# Write the results to a text file\n",
    "with open(output_path, \"w\") as result_file:\n",
    "    print(f\"\\nTotal votes recorded: {vote_total}\")  # Print total votes to terminal\n",
    "    summary = (\n",
    "        f\"Election Results\\n\"\n",
    "        f\"-------------------------\\n\"\n",
    "        f\"Total Votes: {vote_total}\\n\"\n",
    "        f\"-------------------------\\n\"\n",
    "    )\n",
    "    result_file.write(summary)"
   ]
  },
  {
   "cell_type": "code",
   "execution_count": 7,
   "metadata": {},
   "outputs": [],
   "source": [
    "    # Calculate percentages and determine the winner\n",
    "for candidate in candidate_names:\n",
    "        current_vote_count = votes_per_candidate[candidate]\n",
    "        vote_percentage = (current_vote_count / vote_total) * 100\n",
    "        rounded_percentage = round(vote_percentage, 3)"
   ]
  },
  {
   "cell_type": "code",
   "execution_count": 8,
   "metadata": {},
   "outputs": [],
   "source": [
    "# Update the winner if this candidate has the highest votes\n",
    "if current_vote_count > highest_vote_count:\n",
    "            highest_vote_count = current_vote_count\n",
    "            top_candidate = candidate"
   ]
  },
  {
   "cell_type": "code",
   "execution_count": null,
   "metadata": {},
   "outputs": [],
   "source": [
    "   # Format and print each candidate's details\n",
    "candidate_info = f\"{candidate}: {current_vote_count} votes and {rounded_percentage}% share\"\n",
    "print(candidate_info)\n",
    "candidate_summary = (\n",
    "            f\"{candidate}: {rounded_percentage}% ({current_vote_count})\\n\"\n",
    "        )\n",
    "result_file.write(candidate_summary)"
   ]
  },
  {
   "cell_type": "code",
   "execution_count": null,
   "metadata": {},
   "outputs": [],
   "source": [
    "    # Prepare and print the winning candidate's summary\n",
    "winning_percentage = round((highest_vote_count / vote_total) * 100, 3)\n",
    "winner_summary = (\n",
    "        f\"-------------------------\\n\"\n",
    "        f\"Winning Candidate: {top_candidate}\\n\"\n",
    "        f\"Votes: {highest_vote_count}\\n\"\n",
    "        f\"Vote Percentage: {winning_percentage}%\\n\"\n",
    "        f\"-------------------------\\n\"\n",
    "    )\n",
    "print(winner_summary)\n"
   ]
  },
  {
   "cell_type": "code",
   "execution_count": null,
   "metadata": {},
   "outputs": [],
   "source": [
    "# Save the winning candidate summary to the output file\n",
    "winner_summary_file = (\n",
    "        f\"-------------------------\\n\"\n",
    "        f\"Winner: {top_candidate}\\n\"\n",
    "        f\"-------------------------\\n\"\n",
    "    )\n",
    "result_file.write(winner_summary_file)"
   ]
  }
 ],
 "metadata": {
  "kernelspec": {
   "display_name": "Python_Challenhe",
   "language": "python",
   "name": "python3"
  },
  "language_info": {
   "codemirror_mode": {
    "name": "ipython",
    "version": 3
   },
   "file_extension": ".py",
   "mimetype": "text/x-python",
   "name": "python",
   "nbconvert_exporter": "python",
   "pygments_lexer": "ipython3",
   "version": "3.11.9"
  }
 },
 "nbformat": 4,
 "nbformat_minor": 2
}
